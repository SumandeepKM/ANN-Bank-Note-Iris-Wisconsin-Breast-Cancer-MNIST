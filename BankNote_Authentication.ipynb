{
 "cells": [
  {
   "cell_type": "code",
   "execution_count": 1,
   "id": "tough-custody",
   "metadata": {},
   "outputs": [],
   "source": [
    "import pandas as pd\n",
    "import numpy as np\n",
    "import tensorflow as tf"
   ]
  },
  {
   "cell_type": "markdown",
   "id": "automotive-miller",
   "metadata": {},
   "source": [
    "# Data preprocessing"
   ]
  },
  {
   "cell_type": "markdown",
   "id": "periodic-edition",
   "metadata": {},
   "source": [
    "# Importing the dataset"
   ]
  },
  {
   "cell_type": "code",
   "execution_count": 2,
   "id": "simple-battle",
   "metadata": {},
   "outputs": [
    {
     "data": {
      "text/html": [
       "<div>\n",
       "<style scoped>\n",
       "    .dataframe tbody tr th:only-of-type {\n",
       "        vertical-align: middle;\n",
       "    }\n",
       "\n",
       "    .dataframe tbody tr th {\n",
       "        vertical-align: top;\n",
       "    }\n",
       "\n",
       "    .dataframe thead th {\n",
       "        text-align: right;\n",
       "    }\n",
       "</style>\n",
       "<table border=\"1\" class=\"dataframe\">\n",
       "  <thead>\n",
       "    <tr style=\"text-align: right;\">\n",
       "      <th></th>\n",
       "      <th>variance</th>\n",
       "      <th>skewness</th>\n",
       "      <th>curtosis</th>\n",
       "      <th>entropy</th>\n",
       "      <th>class</th>\n",
       "    </tr>\n",
       "  </thead>\n",
       "  <tbody>\n",
       "    <tr>\n",
       "      <th>0</th>\n",
       "      <td>3.62160</td>\n",
       "      <td>8.6661</td>\n",
       "      <td>-2.8073</td>\n",
       "      <td>-0.44699</td>\n",
       "      <td>0</td>\n",
       "    </tr>\n",
       "    <tr>\n",
       "      <th>1</th>\n",
       "      <td>4.54590</td>\n",
       "      <td>8.1674</td>\n",
       "      <td>-2.4586</td>\n",
       "      <td>-1.46210</td>\n",
       "      <td>0</td>\n",
       "    </tr>\n",
       "    <tr>\n",
       "      <th>2</th>\n",
       "      <td>3.86600</td>\n",
       "      <td>-2.6383</td>\n",
       "      <td>1.9242</td>\n",
       "      <td>0.10645</td>\n",
       "      <td>0</td>\n",
       "    </tr>\n",
       "    <tr>\n",
       "      <th>3</th>\n",
       "      <td>3.45660</td>\n",
       "      <td>9.5228</td>\n",
       "      <td>-4.0112</td>\n",
       "      <td>-3.59440</td>\n",
       "      <td>0</td>\n",
       "    </tr>\n",
       "    <tr>\n",
       "      <th>4</th>\n",
       "      <td>0.32924</td>\n",
       "      <td>-4.4552</td>\n",
       "      <td>4.5718</td>\n",
       "      <td>-0.98880</td>\n",
       "      <td>0</td>\n",
       "    </tr>\n",
       "  </tbody>\n",
       "</table>\n",
       "</div>"
      ],
      "text/plain": [
       "   variance  skewness  curtosis  entropy  class\n",
       "0   3.62160    8.6661   -2.8073 -0.44699      0\n",
       "1   4.54590    8.1674   -2.4586 -1.46210      0\n",
       "2   3.86600   -2.6383    1.9242  0.10645      0\n",
       "3   3.45660    9.5228   -4.0112 -3.59440      0\n",
       "4   0.32924   -4.4552    4.5718 -0.98880      0"
      ]
     },
     "execution_count": 2,
     "metadata": {},
     "output_type": "execute_result"
    }
   ],
   "source": [
    "df = pd.read_csv(\"BankNote_Authentication.csv\")\n",
    "df.head()"
   ]
  },
  {
   "cell_type": "code",
   "execution_count": 3,
   "id": "sound-broadway",
   "metadata": {},
   "outputs": [
    {
     "data": {
      "text/plain": [
       "0    762\n",
       "1    610\n",
       "Name: class, dtype: int64"
      ]
     },
     "execution_count": 3,
     "metadata": {},
     "output_type": "execute_result"
    }
   ],
   "source": [
    "df[\"class\"].value_counts()"
   ]
  },
  {
   "cell_type": "code",
   "execution_count": 4,
   "id": "introductory-worker",
   "metadata": {},
   "outputs": [],
   "source": [
    "# rename the coulumns name\n",
    "df.rename(columns = {\"variance\":\"V1\",\"skewness\":\"V2\",\"curtosis\":\"V3\",\"entropy\":\"V4\"}, inplace = True)"
   ]
  },
  {
   "cell_type": "code",
   "execution_count": 5,
   "id": "interracial-configuration",
   "metadata": {},
   "outputs": [
    {
     "data": {
      "text/html": [
       "<div>\n",
       "<style scoped>\n",
       "    .dataframe tbody tr th:only-of-type {\n",
       "        vertical-align: middle;\n",
       "    }\n",
       "\n",
       "    .dataframe tbody tr th {\n",
       "        vertical-align: top;\n",
       "    }\n",
       "\n",
       "    .dataframe thead th {\n",
       "        text-align: right;\n",
       "    }\n",
       "</style>\n",
       "<table border=\"1\" class=\"dataframe\">\n",
       "  <thead>\n",
       "    <tr style=\"text-align: right;\">\n",
       "      <th></th>\n",
       "      <th>V1</th>\n",
       "      <th>V2</th>\n",
       "      <th>V3</th>\n",
       "      <th>V4</th>\n",
       "      <th>class</th>\n",
       "    </tr>\n",
       "  </thead>\n",
       "  <tbody>\n",
       "    <tr>\n",
       "      <th>0</th>\n",
       "      <td>3.62160</td>\n",
       "      <td>8.6661</td>\n",
       "      <td>-2.8073</td>\n",
       "      <td>-0.44699</td>\n",
       "      <td>0</td>\n",
       "    </tr>\n",
       "    <tr>\n",
       "      <th>1</th>\n",
       "      <td>4.54590</td>\n",
       "      <td>8.1674</td>\n",
       "      <td>-2.4586</td>\n",
       "      <td>-1.46210</td>\n",
       "      <td>0</td>\n",
       "    </tr>\n",
       "    <tr>\n",
       "      <th>2</th>\n",
       "      <td>3.86600</td>\n",
       "      <td>-2.6383</td>\n",
       "      <td>1.9242</td>\n",
       "      <td>0.10645</td>\n",
       "      <td>0</td>\n",
       "    </tr>\n",
       "    <tr>\n",
       "      <th>3</th>\n",
       "      <td>3.45660</td>\n",
       "      <td>9.5228</td>\n",
       "      <td>-4.0112</td>\n",
       "      <td>-3.59440</td>\n",
       "      <td>0</td>\n",
       "    </tr>\n",
       "    <tr>\n",
       "      <th>4</th>\n",
       "      <td>0.32924</td>\n",
       "      <td>-4.4552</td>\n",
       "      <td>4.5718</td>\n",
       "      <td>-0.98880</td>\n",
       "      <td>0</td>\n",
       "    </tr>\n",
       "  </tbody>\n",
       "</table>\n",
       "</div>"
      ],
      "text/plain": [
       "        V1      V2      V3       V4  class\n",
       "0  3.62160  8.6661 -2.8073 -0.44699      0\n",
       "1  4.54590  8.1674 -2.4586 -1.46210      0\n",
       "2  3.86600 -2.6383  1.9242  0.10645      0\n",
       "3  3.45660  9.5228 -4.0112 -3.59440      0\n",
       "4  0.32924 -4.4552  4.5718 -0.98880      0"
      ]
     },
     "execution_count": 5,
     "metadata": {},
     "output_type": "execute_result"
    }
   ],
   "source": [
    "df.head()"
   ]
  },
  {
   "cell_type": "code",
   "execution_count": 6,
   "id": "oriented-fleece",
   "metadata": {},
   "outputs": [
    {
     "data": {
      "text/plain": [
       "V1       0\n",
       "V2       0\n",
       "V3       0\n",
       "V4       0\n",
       "class    0\n",
       "dtype: int64"
      ]
     },
     "execution_count": 6,
     "metadata": {},
     "output_type": "execute_result"
    }
   ],
   "source": [
    "# check the missings value\n",
    "df.isnull().sum()"
   ]
  },
  {
   "cell_type": "code",
   "execution_count": 7,
   "id": "early-database",
   "metadata": {},
   "outputs": [],
   "source": [
    "x = df.iloc[:,:-1]\n",
    "y = df.iloc[:,-1]"
   ]
  },
  {
   "cell_type": "markdown",
   "id": "canadian-camera",
   "metadata": {},
   "source": [
    "# Splitting the dataset into the Training set and Test set"
   ]
  },
  {
   "cell_type": "code",
   "execution_count": 8,
   "id": "boxed-chick",
   "metadata": {},
   "outputs": [],
   "source": [
    "from sklearn.model_selection import train_test_split\n",
    "X_train,X_test,y_train,y_test = train_test_split(x,y,test_size = 0.2, random_state = 1)"
   ]
  },
  {
   "cell_type": "markdown",
   "id": "established-settle",
   "metadata": {},
   "source": [
    "# Feature Scaling"
   ]
  },
  {
   "cell_type": "code",
   "execution_count": 9,
   "id": "ready-miracle",
   "metadata": {},
   "outputs": [],
   "source": [
    "from sklearn.preprocessing import StandardScaler\n",
    "sc = StandardScaler()\n",
    "X_train = sc.fit_transform(X_train)\n",
    "X_test = sc.transform(X_test)"
   ]
  },
  {
   "cell_type": "code",
   "execution_count": 10,
   "id": "conventional-fireplace",
   "metadata": {},
   "outputs": [
    {
     "name": "stdout",
     "output_type": "stream",
     "text": [
      "[[-1.58438248  0.1072115  -0.14276339  0.03334576]\n",
      " [-1.08829139 -2.53123321  2.67783284 -0.35092979]\n",
      " [ 1.13672843 -0.15348755 -0.16820608  0.86368769]\n",
      " ...\n",
      " [-1.6900361   0.72314447 -0.19588896 -2.05114485]\n",
      " [ 0.57766241  0.02698182  0.1851622   0.52080477]\n",
      " [-0.9644631   0.30908695 -0.49734797 -0.03521515]]\n"
     ]
    }
   ],
   "source": [
    "print(X_train)"
   ]
  },
  {
   "cell_type": "markdown",
   "id": "integral-darwin",
   "metadata": {},
   "source": [
    "# Building the ANN"
   ]
  },
  {
   "cell_type": "code",
   "execution_count": 11,
   "id": "existing-landing",
   "metadata": {},
   "outputs": [],
   "source": [
    "ann = tf.keras.models.Sequential()\n",
    "ann.add(tf.keras.layers.Dense(units=6, activation='relu'))\n",
    "ann.add(tf.keras.layers.Dense(units=1, activation='sigmoid'))"
   ]
  },
  {
   "cell_type": "markdown",
   "id": "violent-alias",
   "metadata": {},
   "source": [
    "# Training the ANN"
   ]
  },
  {
   "cell_type": "code",
   "execution_count": 12,
   "id": "rural-webmaster",
   "metadata": {},
   "outputs": [
    {
     "name": "stdout",
     "output_type": "stream",
     "text": [
      "Epoch 1/100\n",
      "35/35 [==============================] - 3s 2ms/step - loss: 0.7573 - accuracy: 0.3887\n",
      "Epoch 2/100\n",
      "35/35 [==============================] - 0s 1ms/step - loss: 0.7053 - accuracy: 0.4035\n",
      "Epoch 3/100\n",
      "35/35 [==============================] - 0s 1ms/step - loss: 0.6665 - accuracy: 0.4669\n",
      "Epoch 4/100\n",
      "35/35 [==============================] - 0s 2ms/step - loss: 0.6251 - accuracy: 0.5900\n",
      "Epoch 5/100\n",
      "35/35 [==============================] - 0s 2ms/step - loss: 0.6077 - accuracy: 0.6268\n",
      "Epoch 6/100\n",
      "35/35 [==============================] - 0s 2ms/step - loss: 0.6005 - accuracy: 0.6326\n",
      "Epoch 7/100\n",
      "35/35 [==============================] - 0s 2ms/step - loss: 0.5563 - accuracy: 0.6990\n",
      "Epoch 8/100\n",
      "35/35 [==============================] - 0s 2ms/step - loss: 0.5387 - accuracy: 0.7697\n",
      "Epoch 9/100\n",
      "35/35 [==============================] - 0s 2ms/step - loss: 0.5355 - accuracy: 0.7616\n",
      "Epoch 10/100\n",
      "35/35 [==============================] - 0s 2ms/step - loss: 0.5045 - accuracy: 0.7820\n",
      "Epoch 11/100\n",
      "35/35 [==============================] - 0s 2ms/step - loss: 0.4908 - accuracy: 0.8153\n",
      "Epoch 12/100\n",
      "35/35 [==============================] - 0s 2ms/step - loss: 0.4570 - accuracy: 0.8320\n",
      "Epoch 13/100\n",
      "35/35 [==============================] - 0s 1ms/step - loss: 0.4396 - accuracy: 0.8406\n",
      "Epoch 14/100\n",
      "35/35 [==============================] - 0s 2ms/step - loss: 0.4266 - accuracy: 0.8504\n",
      "Epoch 15/100\n",
      "35/35 [==============================] - 0s 2ms/step - loss: 0.4125 - accuracy: 0.8617\n",
      "Epoch 16/100\n",
      "35/35 [==============================] - 0s 2ms/step - loss: 0.3865 - accuracy: 0.8855\n",
      "Epoch 17/100\n",
      "35/35 [==============================] - 0s 2ms/step - loss: 0.3721 - accuracy: 0.9010\n",
      "Epoch 18/100\n",
      "35/35 [==============================] - 0s 2ms/step - loss: 0.3551 - accuracy: 0.9051\n",
      "Epoch 19/100\n",
      "35/35 [==============================] - 0s 2ms/step - loss: 0.3262 - accuracy: 0.9275\n",
      "Epoch 20/100\n",
      "35/35 [==============================] - 0s 2ms/step - loss: 0.2874 - accuracy: 0.9486\n",
      "Epoch 21/100\n",
      "35/35 [==============================] - 0s 2ms/step - loss: 0.2723 - accuracy: 0.9447\n",
      "Epoch 22/100\n",
      "35/35 [==============================] - 0s 1ms/step - loss: 0.2373 - accuracy: 0.9635\n",
      "Epoch 23/100\n",
      "35/35 [==============================] - 0s 2ms/step - loss: 0.2325 - accuracy: 0.9626\n",
      "Epoch 24/100\n",
      "35/35 [==============================] - 0s 2ms/step - loss: 0.2052 - accuracy: 0.9628\n",
      "Epoch 25/100\n",
      "35/35 [==============================] - 0s 2ms/step - loss: 0.1960 - accuracy: 0.9588\n",
      "Epoch 26/100\n",
      "35/35 [==============================] - 0s 1ms/step - loss: 0.1822 - accuracy: 0.9665\n",
      "Epoch 27/100\n",
      "35/35 [==============================] - 0s 2ms/step - loss: 0.1631 - accuracy: 0.9644\n",
      "Epoch 28/100\n",
      "35/35 [==============================] - 0s 3ms/step - loss: 0.1555 - accuracy: 0.9679\n",
      "Epoch 29/100\n",
      "35/35 [==============================] - 0s 3ms/step - loss: 0.1300 - accuracy: 0.9814\n",
      "Epoch 30/100\n",
      "35/35 [==============================] - 0s 2ms/step - loss: 0.1362 - accuracy: 0.9738\n",
      "Epoch 31/100\n",
      "35/35 [==============================] - 0s 1ms/step - loss: 0.1227 - accuracy: 0.9755\n",
      "Epoch 32/100\n",
      "35/35 [==============================] - 0s 2ms/step - loss: 0.1279 - accuracy: 0.9666\n",
      "Epoch 33/100\n",
      "35/35 [==============================] - 0s 3ms/step - loss: 0.1192 - accuracy: 0.9650\n",
      "Epoch 34/100\n",
      "35/35 [==============================] - 0s 2ms/step - loss: 0.1075 - accuracy: 0.9768\n",
      "Epoch 35/100\n",
      "35/35 [==============================] - 0s 1ms/step - loss: 0.0921 - accuracy: 0.9819\n",
      "Epoch 36/100\n",
      "35/35 [==============================] - 0s 2ms/step - loss: 0.0982 - accuracy: 0.9706\n",
      "Epoch 37/100\n",
      "35/35 [==============================] - 0s 2ms/step - loss: 0.0856 - accuracy: 0.9815\n",
      "Epoch 38/100\n",
      "35/35 [==============================] - 0s 1ms/step - loss: 0.0920 - accuracy: 0.9760\n",
      "Epoch 39/100\n",
      "35/35 [==============================] - 0s 1ms/step - loss: 0.0784 - accuracy: 0.9808\n",
      "Epoch 40/100\n",
      "35/35 [==============================] - 0s 1ms/step - loss: 0.0810 - accuracy: 0.9794\n",
      "Epoch 41/100\n",
      "35/35 [==============================] - 0s 3ms/step - loss: 0.0756 - accuracy: 0.9829\n",
      "Epoch 42/100\n",
      "35/35 [==============================] - 0s 2ms/step - loss: 0.0731 - accuracy: 0.9821\n",
      "Epoch 43/100\n",
      "35/35 [==============================] - 0s 2ms/step - loss: 0.0662 - accuracy: 0.9804\n",
      "Epoch 44/100\n",
      "35/35 [==============================] - 0s 1ms/step - loss: 0.0674 - accuracy: 0.9818\n",
      "Epoch 45/100\n",
      "35/35 [==============================] - 0s 1ms/step - loss: 0.0629 - accuracy: 0.9846\n",
      "Epoch 46/100\n",
      "35/35 [==============================] - 0s 1ms/step - loss: 0.0615 - accuracy: 0.9862\n",
      "Epoch 47/100\n",
      "35/35 [==============================] - 0s 2ms/step - loss: 0.0721 - accuracy: 0.9776\n",
      "Epoch 48/100\n",
      "35/35 [==============================] - 0s 2ms/step - loss: 0.0584 - accuracy: 0.9810\n",
      "Epoch 49/100\n",
      "35/35 [==============================] - 0s 2ms/step - loss: 0.0575 - accuracy: 0.9868\n",
      "Epoch 50/100\n",
      "35/35 [==============================] - 0s 2ms/step - loss: 0.0578 - accuracy: 0.9845\n",
      "Epoch 51/100\n",
      "35/35 [==============================] - 0s 2ms/step - loss: 0.0563 - accuracy: 0.9828\n",
      "Epoch 52/100\n",
      "35/35 [==============================] - 0s 1ms/step - loss: 0.0393 - accuracy: 0.9926\n",
      "Epoch 53/100\n",
      "35/35 [==============================] - 0s 2ms/step - loss: 0.0446 - accuracy: 0.9911\n",
      "Epoch 54/100\n",
      "35/35 [==============================] - 0s 2ms/step - loss: 0.0450 - accuracy: 0.9865\n",
      "Epoch 55/100\n",
      "35/35 [==============================] - 0s 2ms/step - loss: 0.0409 - accuracy: 0.9905\n",
      "Epoch 56/100\n",
      "35/35 [==============================] - 0s 2ms/step - loss: 0.0391 - accuracy: 0.9908\n",
      "Epoch 57/100\n",
      "35/35 [==============================] - 0s 2ms/step - loss: 0.0431 - accuracy: 0.9862\n",
      "Epoch 58/100\n",
      "35/35 [==============================] - 0s 2ms/step - loss: 0.0387 - accuracy: 0.9867\n",
      "Epoch 59/100\n",
      "35/35 [==============================] - 0s 1ms/step - loss: 0.0410 - accuracy: 0.9858\n",
      "Epoch 60/100\n",
      "35/35 [==============================] - 0s 1ms/step - loss: 0.0365 - accuracy: 0.9906\n",
      "Epoch 61/100\n",
      "35/35 [==============================] - 0s 1ms/step - loss: 0.0326 - accuracy: 0.9910\n",
      "Epoch 62/100\n",
      "35/35 [==============================] - 0s 1ms/step - loss: 0.0334 - accuracy: 0.9902\n",
      "Epoch 63/100\n",
      "35/35 [==============================] - 0s 2ms/step - loss: 0.0351 - accuracy: 0.9897\n",
      "Epoch 64/100\n",
      "35/35 [==============================] - 0s 1ms/step - loss: 0.0306 - accuracy: 0.9900\n",
      "Epoch 65/100\n",
      "35/35 [==============================] - 0s 2ms/step - loss: 0.0309 - accuracy: 0.9958\n",
      "Epoch 66/100\n",
      "35/35 [==============================] - 0s 1ms/step - loss: 0.0340 - accuracy: 0.9923\n",
      "Epoch 67/100\n",
      "35/35 [==============================] - 0s 1ms/step - loss: 0.0265 - accuracy: 0.9953\n",
      "Epoch 68/100\n",
      "35/35 [==============================] - 0s 2ms/step - loss: 0.0318 - accuracy: 0.9989\n",
      "Epoch 69/100\n",
      "35/35 [==============================] - 0s 2ms/step - loss: 0.0296 - accuracy: 0.9992\n",
      "Epoch 70/100\n",
      "35/35 [==============================] - 0s 2ms/step - loss: 0.0280 - accuracy: 0.9997\n",
      "Epoch 71/100\n",
      "35/35 [==============================] - 0s 2ms/step - loss: 0.0289 - accuracy: 0.9991\n",
      "Epoch 72/100\n",
      "35/35 [==============================] - 0s 1ms/step - loss: 0.0292 - accuracy: 0.9988\n",
      "Epoch 73/100\n",
      "35/35 [==============================] - 0s 2ms/step - loss: 0.0267 - accuracy: 0.9989\n",
      "Epoch 74/100\n",
      "35/35 [==============================] - 0s 1ms/step - loss: 0.0275 - accuracy: 0.9980\n",
      "Epoch 75/100\n",
      "35/35 [==============================] - 0s 1ms/step - loss: 0.0265 - accuracy: 0.9993\n",
      "Epoch 76/100\n",
      "35/35 [==============================] - 0s 2ms/step - loss: 0.0280 - accuracy: 0.9990\n",
      "Epoch 77/100\n",
      "35/35 [==============================] - 0s 1ms/step - loss: 0.0280 - accuracy: 0.9993\n",
      "Epoch 78/100\n",
      "35/35 [==============================] - 0s 1ms/step - loss: 0.0244 - accuracy: 0.9988\n",
      "Epoch 79/100\n",
      "35/35 [==============================] - 0s 2ms/step - loss: 0.0280 - accuracy: 0.9977\n",
      "Epoch 80/100\n",
      "35/35 [==============================] - 0s 1ms/step - loss: 0.0219 - accuracy: 0.9994\n",
      "Epoch 81/100\n",
      "35/35 [==============================] - 0s 1ms/step - loss: 0.0229 - accuracy: 0.9990\n",
      "Epoch 82/100\n",
      "35/35 [==============================] - 0s 2ms/step - loss: 0.0194 - accuracy: 0.9992\n",
      "Epoch 83/100\n"
     ]
    },
    {
     "name": "stdout",
     "output_type": "stream",
     "text": [
      "35/35 [==============================] - 0s 2ms/step - loss: 0.0215 - accuracy: 0.9994\n",
      "Epoch 84/100\n",
      "35/35 [==============================] - 0s 2ms/step - loss: 0.0227 - accuracy: 0.9982\n",
      "Epoch 85/100\n",
      "35/35 [==============================] - 0s 2ms/step - loss: 0.0206 - accuracy: 0.9997\n",
      "Epoch 86/100\n",
      "35/35 [==============================] - 0s 1ms/step - loss: 0.0180 - accuracy: 0.9984\n",
      "Epoch 87/100\n",
      "35/35 [==============================] - 0s 1ms/step - loss: 0.0175 - accuracy: 0.9997\n",
      "Epoch 88/100\n",
      "35/35 [==============================] - 0s 1ms/step - loss: 0.0205 - accuracy: 0.9993\n",
      "Epoch 89/100\n",
      "35/35 [==============================] - 0s 1ms/step - loss: 0.0181 - accuracy: 0.9984\n",
      "Epoch 90/100\n",
      "35/35 [==============================] - 0s 1ms/step - loss: 0.0194 - accuracy: 0.9964\n",
      "Epoch 91/100\n",
      "35/35 [==============================] - 0s 1ms/step - loss: 0.0196 - accuracy: 0.9988\n",
      "Epoch 92/100\n",
      "35/35 [==============================] - 0s 1ms/step - loss: 0.0215 - accuracy: 0.9998\n",
      "Epoch 93/100\n",
      "35/35 [==============================] - 0s 1ms/step - loss: 0.0159 - accuracy: 0.9999\n",
      "Epoch 94/100\n",
      "35/35 [==============================] - 0s 1ms/step - loss: 0.0172 - accuracy: 0.9997\n",
      "Epoch 95/100\n",
      "35/35 [==============================] - 0s 1ms/step - loss: 0.0175 - accuracy: 0.9964\n",
      "Epoch 96/100\n",
      "35/35 [==============================] - 0s 1ms/step - loss: 0.0176 - accuracy: 0.9995\n",
      "Epoch 97/100\n",
      "35/35 [==============================] - 0s 1ms/step - loss: 0.0146 - accuracy: 0.9994\n",
      "Epoch 98/100\n",
      "35/35 [==============================] - 0s 1ms/step - loss: 0.0171 - accuracy: 0.9990\n",
      "Epoch 99/100\n",
      "35/35 [==============================] - 0s 1ms/step - loss: 0.0151 - accuracy: 0.9991\n",
      "Epoch 100/100\n",
      "35/35 [==============================] - 0s 1ms/step - loss: 0.0183 - accuracy: 0.9993\n"
     ]
    },
    {
     "data": {
      "text/plain": [
       "<tensorflow.python.keras.callbacks.History at 0x5ca187f190>"
      ]
     },
     "execution_count": 12,
     "metadata": {},
     "output_type": "execute_result"
    }
   ],
   "source": [
    "ann.compile(optimizer = 'adam', loss = 'binary_crossentropy', metrics = ['accuracy'])\n",
    "model = ann.fit(X_train, y_train, batch_size = 32, epochs = 100)\n",
    "model"
   ]
  },
  {
   "cell_type": "code",
   "execution_count": 13,
   "id": "adopted-standing",
   "metadata": {},
   "outputs": [
    {
     "name": "stdout",
     "output_type": "stream",
     "text": [
      "Model: \"sequential\"\n",
      "_________________________________________________________________\n",
      "Layer (type)                 Output Shape              Param #   \n",
      "=================================================================\n",
      "dense (Dense)                (None, 6)                 30        \n",
      "_________________________________________________________________\n",
      "dense_1 (Dense)              (None, 1)                 7         \n",
      "=================================================================\n",
      "Total params: 37\n",
      "Trainable params: 37\n",
      "Non-trainable params: 0\n",
      "_________________________________________________________________\n"
     ]
    }
   ],
   "source": [
    "ann.summary()"
   ]
  },
  {
   "cell_type": "markdown",
   "id": "promising-stationery",
   "metadata": {},
   "source": [
    "# Predicting the Train set results"
   ]
  },
  {
   "cell_type": "code",
   "execution_count": 14,
   "id": "opening-camcorder",
   "metadata": {},
   "outputs": [],
   "source": [
    "y_pred = ann.predict(X_train)\n",
    "y_pred = (y_pred > 0.5)"
   ]
  },
  {
   "cell_type": "markdown",
   "id": "refined-hungary",
   "metadata": {},
   "source": [
    "# Making the Confusion Matrix for train set"
   ]
  },
  {
   "cell_type": "code",
   "execution_count": 15,
   "id": "polish-program",
   "metadata": {},
   "outputs": [
    {
     "name": "stdout",
     "output_type": "stream",
     "text": [
      "[[604   1]\n",
      " [  0 492]]\n"
     ]
    },
    {
     "data": {
      "text/plain": [
       "0.9990884229717412"
      ]
     },
     "execution_count": 15,
     "metadata": {},
     "output_type": "execute_result"
    }
   ],
   "source": [
    "from sklearn.metrics import confusion_matrix, accuracy_score\n",
    "cm = confusion_matrix(y_train, y_pred)\n",
    "print(cm)\n",
    "accuracy_score(y_train, y_pred)"
   ]
  },
  {
   "cell_type": "markdown",
   "id": "hidden-variety",
   "metadata": {},
   "source": [
    "# Predicting the Test set results"
   ]
  },
  {
   "cell_type": "code",
   "execution_count": 16,
   "id": "joined-diameter",
   "metadata": {},
   "outputs": [],
   "source": [
    "y_pred = ann.predict(X_test)\n",
    "y_pred = (y_pred > 0.5)"
   ]
  },
  {
   "cell_type": "markdown",
   "id": "valuable-sphere",
   "metadata": {},
   "source": [
    "# Making the Confusion Matrix"
   ]
  },
  {
   "cell_type": "code",
   "execution_count": 17,
   "id": "polyphonic-jaguar",
   "metadata": {},
   "outputs": [
    {
     "name": "stdout",
     "output_type": "stream",
     "text": [
      "[[155   2]\n",
      " [  0 118]]\n"
     ]
    },
    {
     "data": {
      "text/plain": [
       "0.9927272727272727"
      ]
     },
     "execution_count": 17,
     "metadata": {},
     "output_type": "execute_result"
    }
   ],
   "source": [
    "from sklearn.metrics import confusion_matrix, accuracy_score\n",
    "cm = confusion_matrix(y_test, y_pred)\n",
    "print(cm)\n",
    "accuracy_score(y_test, y_pred)"
   ]
  },
  {
   "cell_type": "code",
   "execution_count": 18,
   "id": "elementary-celebration",
   "metadata": {},
   "outputs": [
    {
     "name": "stdout",
     "output_type": "stream",
     "text": [
      "False Positives\n",
      " [0 2]\n",
      "False Negetives\n",
      " [2 0]\n",
      "True Positives\n",
      " [155 118]\n",
      "True Negetives\n",
      " [118 155]\n",
      "Sensitivity \n",
      " [0.98726115 1.        ]\n",
      "Specificity \n",
      " [1.         0.98726115]\n",
      "Precision \n",
      " [1.         0.98333333]\n",
      "Recall \n",
      " [0.98726115 1.        ]\n",
      "Áccuracy \n",
      "[0.99272727 0.99272727]\n",
      "FScore \n",
      "[0.99358974 0.99159664]\n"
     ]
    }
   ],
   "source": [
    "FP = cm.sum(axis=0) - np.diag(cm)\n",
    "FN = cm.sum(axis=1) - np.diag(cm)\n",
    "TP = np.diag(cm)\n",
    "TN = cm.sum() - (FP + FN + TP)\n",
    "print('False Positives\\n {}'.format(FP))\n",
    "print('False Negetives\\n {}'.format(FN))\n",
    "print('True Positives\\n {}'.format(TP))\n",
    "print('True Negetives\\n {}'.format(TN))\n",
    "TPR = TP/(TP+FN)\n",
    "print('Sensitivity \\n {}'.format(TPR))\n",
    "TNR = TN/(TN+FP)\n",
    "print('Specificity \\n {}'.format(TNR))\n",
    "Precision = TP/(TP+FP)\n",
    "print('Precision \\n {}'.format(Precision))\n",
    "Recall = TP/(TP+FN)\n",
    "print('Recall \\n {}'.format(Recall))\n",
    "Acc = (TP+TN)/(TP+TN+FP+FN)\n",
    "print('Áccuracy \\n{}'.format(Acc))\n",
    "Fscore = 2*(Precision*Recall)/(Precision+Recall)\n",
    "print('FScore \\n{}'.format(Fscore))"
   ]
  },
  {
   "cell_type": "code",
   "execution_count": 19,
   "id": "cosmetic-leonard",
   "metadata": {},
   "outputs": [],
   "source": [
    "training_loss = model.history['loss']\n"
   ]
  },
  {
   "cell_type": "code",
   "execution_count": 20,
   "id": "virgin-terrorism",
   "metadata": {},
   "outputs": [],
   "source": [
    "epoch_count = range(1, len(training_loss) + 1)"
   ]
  },
  {
   "cell_type": "markdown",
   "id": "unnecessary-assignment",
   "metadata": {},
   "source": [
    "# plot of the loss vs. epochs"
   ]
  },
  {
   "cell_type": "code",
   "execution_count": 21,
   "id": "compact-tunisia",
   "metadata": {},
   "outputs": [
    {
     "data": {
      "image/png": "[encoded data removed]",
      "text/plain": [
       "<Figure size 432x288 with 1 Axes>"
      ]
     },
     "metadata": {
      "needs_background": "light"
     },
     "output_type": "display_data"
    }
   ],
   "source": [
    "import matplotlib.pyplot as plt\n",
    "plt.plot(epoch_count, training_loss)\n",
    "plt.xlabel('Epoch')\n",
    "plt.ylabel('Loss')\n",
    "plt.show();"
   ]
  },
  {
   "cell_type": "code",
   "execution_count": 23,
   "id": "productive-scotland",
   "metadata": {},
   "outputs": [],
   "source": [
    "ann = tf.keras.models.Sequential()\n",
    "ann.add(tf.keras.layers.Dense(units=6, activation='relu'))\n",
    "ann.add(tf.keras.layers.Dense(units=1, activation='linear'))"
   ]
  },
  {
   "cell_type": "code",
   "execution_count": 24,
   "id": "little-browse",
   "metadata": {},
   "outputs": [
    {
     "name": "stdout",
     "output_type": "stream",
     "text": [
      "Epoch 1/100\n",
      "35/35 [==============================] - 1s 2ms/step - loss: 5.9661 - accuracy: 0.5276\n",
      "Epoch 2/100\n",
      "35/35 [==============================] - 0s 1ms/step - loss: 4.8385 - accuracy: 0.5680\n",
      "Epoch 3/100\n",
      "35/35 [==============================] - 0s 1ms/step - loss: 4.3492 - accuracy: 0.5713\n",
      "Epoch 4/100\n",
      "35/35 [==============================] - 0s 2ms/step - loss: 4.0488 - accuracy: 0.6196\n",
      "Epoch 5/100\n",
      "35/35 [==============================] - 0s 2ms/step - loss: 4.0986 - accuracy: 0.6608\n",
      "Epoch 6/100\n",
      "35/35 [==============================] - 0s 2ms/step - loss: 3.6871 - accuracy: 0.6771\n",
      "Epoch 7/100\n",
      "35/35 [==============================] - 0s 2ms/step - loss: 3.2623 - accuracy: 0.6752\n",
      "Epoch 8/100\n",
      "35/35 [==============================] - 0s 2ms/step - loss: 2.3643 - accuracy: 0.7265\n",
      "Epoch 9/100\n",
      "35/35 [==============================] - 0s 2ms/step - loss: 1.8405 - accuracy: 0.7261\n",
      "Epoch 10/100\n",
      "35/35 [==============================] - 0s 2ms/step - loss: 0.8889 - accuracy: 0.7422\n",
      "Epoch 11/100\n",
      "35/35 [==============================] - 0s 2ms/step - loss: 0.9134 - accuracy: 0.7423\n",
      "Epoch 12/100\n",
      "35/35 [==============================] - 0s 2ms/step - loss: 0.6627 - accuracy: 0.7888\n",
      "Epoch 13/100\n",
      "35/35 [==============================] - 0s 2ms/step - loss: 0.7228 - accuracy: 0.7820\n",
      "Epoch 14/100\n",
      "35/35 [==============================] - 0s 2ms/step - loss: 0.4820 - accuracy: 0.8218\n",
      "Epoch 15/100\n",
      "35/35 [==============================] - 0s 2ms/step - loss: 0.5420 - accuracy: 0.8651\n",
      "Epoch 16/100\n",
      "35/35 [==============================] - 0s 2ms/step - loss: 0.4033 - accuracy: 0.8936\n",
      "Epoch 17/100\n",
      "35/35 [==============================] - 0s 2ms/step - loss: 0.2079 - accuracy: 0.9139\n",
      "Epoch 18/100\n",
      "35/35 [==============================] - 0s 2ms/step - loss: 0.1323 - accuracy: 0.9367\n",
      "Epoch 19/100\n",
      "35/35 [==============================] - 0s 2ms/step - loss: 0.1280 - accuracy: 0.9324\n",
      "Epoch 20/100\n",
      "35/35 [==============================] - 0s 2ms/step - loss: 0.1294 - accuracy: 0.9320\n",
      "Epoch 21/100\n",
      "35/35 [==============================] - 0s 2ms/step - loss: 0.1182 - accuracy: 0.9391\n",
      "Epoch 22/100\n",
      "35/35 [==============================] - 0s 2ms/step - loss: 0.1166 - accuracy: 0.9336\n",
      "Epoch 23/100\n",
      "35/35 [==============================] - 0s 2ms/step - loss: 0.1017 - accuracy: 0.9506\n",
      "Epoch 24/100\n",
      "35/35 [==============================] - 0s 2ms/step - loss: 0.1089 - accuracy: 0.9514\n",
      "Epoch 25/100\n",
      "35/35 [==============================] - 0s 2ms/step - loss: 0.1026 - accuracy: 0.9510\n",
      "Epoch 26/100\n",
      "35/35 [==============================] - 0s 2ms/step - loss: 0.0951 - accuracy: 0.9560\n",
      "Epoch 27/100\n",
      "35/35 [==============================] - 0s 2ms/step - loss: 0.1038 - accuracy: 0.9563\n",
      "Epoch 28/100\n",
      "35/35 [==============================] - 0s 2ms/step - loss: 0.1004 - accuracy: 0.9613\n",
      "Epoch 29/100\n",
      "35/35 [==============================] - 0s 2ms/step - loss: 0.0926 - accuracy: 0.9603\n",
      "Epoch 30/100\n",
      "35/35 [==============================] - 0s 2ms/step - loss: 0.0993 - accuracy: 0.9604\n",
      "Epoch 31/100\n",
      "35/35 [==============================] - 0s 2ms/step - loss: 0.0867 - accuracy: 0.9691\n",
      "Epoch 32/100\n",
      "35/35 [==============================] - 0s 2ms/step - loss: 0.0991 - accuracy: 0.9608\n",
      "Epoch 33/100\n",
      "35/35 [==============================] - 0s 2ms/step - loss: 0.0822 - accuracy: 0.9704\n",
      "Epoch 34/100\n",
      "35/35 [==============================] - 0s 2ms/step - loss: 0.0792 - accuracy: 0.9722\n",
      "Epoch 35/100\n",
      "35/35 [==============================] - 0s 2ms/step - loss: 0.0774 - accuracy: 0.9751\n",
      "Epoch 36/100\n",
      "35/35 [==============================] - 0s 2ms/step - loss: 0.0772 - accuracy: 0.9721\n",
      "Epoch 37/100\n",
      "35/35 [==============================] - 0s 2ms/step - loss: 0.0668 - accuracy: 0.9773\n",
      "Epoch 38/100\n",
      "35/35 [==============================] - 0s 2ms/step - loss: 0.0777 - accuracy: 0.9706\n",
      "Epoch 39/100\n",
      "35/35 [==============================] - 0s 2ms/step - loss: 0.0718 - accuracy: 0.9765\n",
      "Epoch 40/100\n",
      "35/35 [==============================] - 0s 2ms/step - loss: 0.0724 - accuracy: 0.9698\n",
      "Epoch 41/100\n",
      "35/35 [==============================] - 0s 2ms/step - loss: 0.0758 - accuracy: 0.9711\n",
      "Epoch 42/100\n",
      "35/35 [==============================] - 0s 2ms/step - loss: 0.0664 - accuracy: 0.9739\n",
      "Epoch 43/100\n",
      "35/35 [==============================] - 0s 2ms/step - loss: 0.0634 - accuracy: 0.9803\n",
      "Epoch 44/100\n",
      "35/35 [==============================] - 0s 2ms/step - loss: 0.0724 - accuracy: 0.9751\n",
      "Epoch 45/100\n",
      "35/35 [==============================] - 0s 2ms/step - loss: 0.0658 - accuracy: 0.9761\n",
      "Epoch 46/100\n",
      "35/35 [==============================] - 0s 2ms/step - loss: 0.0657 - accuracy: 0.9764\n",
      "Epoch 47/100\n",
      "35/35 [==============================] - 0s 2ms/step - loss: 0.0638 - accuracy: 0.9795\n",
      "Epoch 48/100\n",
      "35/35 [==============================] - 0s 2ms/step - loss: 0.0609 - accuracy: 0.9814\n",
      "Epoch 49/100\n",
      "35/35 [==============================] - 0s 2ms/step - loss: 0.0490 - accuracy: 0.9824\n",
      "Epoch 50/100\n",
      "35/35 [==============================] - 0s 2ms/step - loss: 0.0606 - accuracy: 0.9779\n",
      "Epoch 51/100\n",
      "35/35 [==============================] - 0s 2ms/step - loss: 0.0618 - accuracy: 0.9815\n",
      "Epoch 52/100\n",
      "35/35 [==============================] - 0s 2ms/step - loss: 0.0573 - accuracy: 0.9860\n",
      "Epoch 53/100\n",
      "35/35 [==============================] - 0s 2ms/step - loss: 0.0484 - accuracy: 0.9855\n",
      "Epoch 54/100\n",
      "35/35 [==============================] - 0s 2ms/step - loss: 0.0566 - accuracy: 0.9818\n",
      "Epoch 55/100\n",
      "35/35 [==============================] - 0s 2ms/step - loss: 0.0633 - accuracy: 0.9758\n",
      "Epoch 56/100\n",
      "35/35 [==============================] - 0s 2ms/step - loss: 0.0466 - accuracy: 0.9860\n",
      "Epoch 57/100\n",
      "35/35 [==============================] - 0s 2ms/step - loss: 0.0447 - accuracy: 0.9837\n",
      "Epoch 58/100\n",
      "35/35 [==============================] - 0s 2ms/step - loss: 0.0496 - accuracy: 0.9856\n",
      "Epoch 59/100\n",
      "35/35 [==============================] - 0s 2ms/step - loss: 0.0408 - accuracy: 0.9856\n",
      "Epoch 60/100\n",
      "35/35 [==============================] - 0s 2ms/step - loss: 0.0507 - accuracy: 0.9842\n",
      "Epoch 61/100\n",
      "35/35 [==============================] - 0s 2ms/step - loss: 0.0527 - accuracy: 0.9777\n",
      "Epoch 62/100\n",
      "35/35 [==============================] - 0s 2ms/step - loss: 0.0468 - accuracy: 0.9889\n",
      "Epoch 63/100\n",
      "35/35 [==============================] - 0s 2ms/step - loss: 0.0370 - accuracy: 0.9893\n",
      "Epoch 64/100\n",
      "35/35 [==============================] - 0s 2ms/step - loss: 0.0517 - accuracy: 0.9802\n",
      "Epoch 65/100\n",
      "35/35 [==============================] - 0s 2ms/step - loss: 0.0413 - accuracy: 0.9850\n",
      "Epoch 66/100\n",
      "35/35 [==============================] - 0s 2ms/step - loss: 0.0437 - accuracy: 0.9854\n",
      "Epoch 67/100\n",
      "35/35 [==============================] - 0s 2ms/step - loss: 0.0451 - accuracy: 0.9837\n",
      "Epoch 68/100\n",
      "35/35 [==============================] - 0s 2ms/step - loss: 0.0389 - accuracy: 0.9859\n",
      "Epoch 69/100\n",
      "35/35 [==============================] - 0s 2ms/step - loss: 0.0400 - accuracy: 0.9889\n",
      "Epoch 70/100\n",
      "35/35 [==============================] - 0s 2ms/step - loss: 0.0360 - accuracy: 0.9898\n",
      "Epoch 71/100\n",
      "35/35 [==============================] - 0s 2ms/step - loss: 0.0421 - accuracy: 0.9842\n",
      "Epoch 72/100\n",
      "35/35 [==============================] - 0s 2ms/step - loss: 0.0382 - accuracy: 0.9864\n",
      "Epoch 73/100\n",
      "35/35 [==============================] - 0s 2ms/step - loss: 0.0365 - accuracy: 0.9876\n",
      "Epoch 74/100\n",
      "35/35 [==============================] - 0s 2ms/step - loss: 0.0323 - accuracy: 0.9898\n",
      "Epoch 75/100\n",
      "35/35 [==============================] - 0s 2ms/step - loss: 0.0374 - accuracy: 0.9830\n",
      "Epoch 76/100\n",
      "35/35 [==============================] - 0s 2ms/step - loss: 0.0351 - accuracy: 0.9851\n",
      "Epoch 77/100\n",
      "35/35 [==============================] - 0s 2ms/step - loss: 0.0321 - accuracy: 0.9852\n",
      "Epoch 78/100\n",
      "35/35 [==============================] - 0s 2ms/step - loss: 0.0334 - accuracy: 0.9846\n",
      "Epoch 79/100\n",
      "35/35 [==============================] - 0s 1ms/step - loss: 0.0296 - accuracy: 0.9891\n",
      "Epoch 80/100\n",
      "35/35 [==============================] - 0s 2ms/step - loss: 0.0322 - accuracy: 0.9878\n",
      "Epoch 81/100\n",
      "35/35 [==============================] - 0s 2ms/step - loss: 0.0404 - accuracy: 0.9858\n",
      "Epoch 82/100\n",
      "35/35 [==============================] - 0s 2ms/step - loss: 0.0302 - accuracy: 0.9893\n",
      "Epoch 83/100\n"
     ]
    },
    {
     "name": "stdout",
     "output_type": "stream",
     "text": [
      "35/35 [==============================] - 0s 2ms/step - loss: 0.0325 - accuracy: 0.9876\n",
      "Epoch 84/100\n",
      "35/35 [==============================] - 0s 2ms/step - loss: 0.0350 - accuracy: 0.9839\n",
      "Epoch 85/100\n",
      "35/35 [==============================] - 0s 2ms/step - loss: 0.0392 - accuracy: 0.9807\n",
      "Epoch 86/100\n",
      "35/35 [==============================] - 0s 2ms/step - loss: 0.0307 - accuracy: 0.9896\n",
      "Epoch 87/100\n",
      "35/35 [==============================] - 0s 2ms/step - loss: 0.0332 - accuracy: 0.9838\n",
      "Epoch 88/100\n",
      "35/35 [==============================] - 0s 2ms/step - loss: 0.0282 - accuracy: 0.9896\n",
      "Epoch 89/100\n",
      "35/35 [==============================] - 0s 2ms/step - loss: 0.0293 - accuracy: 0.9882\n",
      "Epoch 90/100\n",
      "35/35 [==============================] - 0s 2ms/step - loss: 0.0334 - accuracy: 0.9813\n",
      "Epoch 91/100\n",
      "35/35 [==============================] - 0s 2ms/step - loss: 0.0281 - accuracy: 0.9879\n",
      "Epoch 92/100\n",
      "35/35 [==============================] - 0s 2ms/step - loss: 0.0370 - accuracy: 0.9824\n",
      "Epoch 93/100\n",
      "35/35 [==============================] - 0s 2ms/step - loss: 0.0268 - accuracy: 0.9879\n",
      "Epoch 94/100\n",
      "35/35 [==============================] - 0s 2ms/step - loss: 0.0262 - accuracy: 0.9878\n",
      "Epoch 95/100\n",
      "35/35 [==============================] - 0s 2ms/step - loss: 0.0278 - accuracy: 0.9875\n",
      "Epoch 96/100\n",
      "35/35 [==============================] - 0s 2ms/step - loss: 0.0269 - accuracy: 0.9881\n",
      "Epoch 97/100\n",
      "35/35 [==============================] - 0s 2ms/step - loss: 0.0204 - accuracy: 0.9911\n",
      "Epoch 98/100\n",
      "35/35 [==============================] - 0s 2ms/step - loss: 0.0247 - accuracy: 0.9888\n",
      "Epoch 99/100\n",
      "35/35 [==============================] - 0s 2ms/step - loss: 0.0217 - accuracy: 0.9879\n",
      "Epoch 100/100\n",
      "35/35 [==============================] - 0s 2ms/step - loss: 0.0322 - accuracy: 0.9829\n"
     ]
    },
    {
     "data": {
      "text/plain": [
       "<tensorflow.python.keras.callbacks.History at 0x5ca1924520>"
      ]
     },
     "execution_count": 24,
     "metadata": {},
     "output_type": "execute_result"
    }
   ],
   "source": [
    "ann.compile(optimizer = 'adam', loss = 'binary_crossentropy', metrics = ['accuracy'])\n",
    "model = ann.fit(X_train, y_train, batch_size = 32, epochs = 100)\n",
    "model"
   ]
  },
  {
   "cell_type": "code",
   "execution_count": 25,
   "id": "southeast-popularity",
   "metadata": {},
   "outputs": [],
   "source": [
    "y_pred = ann.predict(X_test)\n",
    "y_pred = (y_pred > 0.5)"
   ]
  },
  {
   "cell_type": "code",
   "execution_count": 26,
   "id": "downtown-burst",
   "metadata": {},
   "outputs": [
    {
     "name": "stdout",
     "output_type": "stream",
     "text": [
      "[[156   1]\n",
      " [  1 117]]\n"
     ]
    },
    {
     "data": {
      "text/plain": [
       "0.9927272727272727"
      ]
     },
     "execution_count": 26,
     "metadata": {},
     "output_type": "execute_result"
    }
   ],
   "source": [
    "from sklearn.metrics import confusion_matrix, accuracy_score\n",
    "cm = confusion_matrix(y_test, y_pred)\n",
    "print(cm)\n",
    "accuracy_score(y_test, y_pred)"
   ]
  },
  {
   "cell_type": "code",
   "execution_count": 27,
   "id": "sound-burden",
   "metadata": {},
   "outputs": [
    {
     "name": "stdout",
     "output_type": "stream",
     "text": [
      "False Positives\n",
      " [1 1]\n",
      "False Negetives\n",
      " [1 1]\n",
      "True Positives\n",
      " [156 117]\n",
      "True Negetives\n",
      " [117 156]\n",
      "Sensitivity \n",
      " [0.99363057 0.99152542]\n",
      "Specificity \n",
      " [0.99152542 0.99363057]\n",
      "Precision \n",
      " [0.99363057 0.99152542]\n",
      "Recall \n",
      " [0.99363057 0.99152542]\n",
      "Áccuracy \n",
      "[0.99272727 0.99272727]\n",
      "FScore \n",
      "[0.99363057 0.99152542]\n"
     ]
    }
   ],
   "source": [
    "FP = cm.sum(axis=0) - np.diag(cm)\n",
    "FN = cm.sum(axis=1) - np.diag(cm)\n",
    "TP = np.diag(cm)\n",
    "TN = cm.sum() - (FP + FN + TP)\n",
    "print('False Positives\\n {}'.format(FP))\n",
    "print('False Negetives\\n {}'.format(FN))\n",
    "print('True Positives\\n {}'.format(TP))\n",
    "print('True Negetives\\n {}'.format(TN))\n",
    "TPR = TP/(TP+FN)\n",
    "print('Sensitivity \\n {}'.format(TPR))\n",
    "TNR = TN/(TN+FP)\n",
    "print('Specificity \\n {}'.format(TNR))\n",
    "Precision = TP/(TP+FP)\n",
    "print('Precision \\n {}'.format(Precision))\n",
    "Recall = TP/(TP+FN)\n",
    "print('Recall \\n {}'.format(Recall))\n",
    "Acc = (TP+TN)/(TP+TN+FP+FN)\n",
    "print('Áccuracy \\n{}'.format(Acc))\n",
    "Fscore = 2*(Precision*Recall)/(Precision+Recall)\n",
    "print('FScore \\n{}'.format(Fscore))"
   ]
  },
  {
   "cell_type": "code",
   "execution_count": 28,
   "id": "romance-firmware",
   "metadata": {},
   "outputs": [],
   "source": [
    "training_loss = model.history['loss']\n",
    "epoch_count = range(1, len(training_loss) + 1)"
   ]
  },
  {
   "cell_type": "code",
   "execution_count": 29,
   "id": "applicable-simon",
   "metadata": {},
   "outputs": [
    {
     "data": {
      "image/png": "[encoded data removed]",
      "text/plain": [
       "<Figure size 432x288 with 1 Axes>"
      ]
     },
     "metadata": {
      "needs_background": "light"
     },
     "output_type": "display_data"
    }
   ],
   "source": [
    "import matplotlib.pyplot as plt\n",
    "plt.plot(epoch_count, training_loss)\n",
    "plt.xlabel('Epoch')\n",
    "plt.ylabel('Loss')\n",
    "plt.show();"
   ]
  },
  {
   "cell_type": "code",
   "execution_count": null,
   "id": "opposite-lancaster",
   "metadata": {},
   "outputs": [],
   "source": []
  }
 ],
 "metadata": {
  "kernelspec": {
   "display_name": "Python 3",
   "language": "python",
   "name": "python3"
  },
  "language_info": {
   "codemirror_mode": {
    "name": "ipython",
    "version": 3
   },
   "file_extension": ".py",
   "mimetype": "text/x-python",
   "name": "python",
   "nbconvert_exporter": "python",
   "pygments_lexer": "ipython3",
   "version": "3.8.5"
  }
 },
 "nbformat": 4,
 "nbformat_minor": 5
}
