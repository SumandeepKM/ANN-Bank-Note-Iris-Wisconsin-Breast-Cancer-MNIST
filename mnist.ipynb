{
 "cells": [
  {
   "cell_type": "code",
   "execution_count": 1,
   "id": "logical-worst",
   "metadata": {},
   "outputs": [],
   "source": [
    "import pandas as pd\n",
    "import numpy as np\n",
    "import tensorflow as tf"
   ]
  },
  {
   "cell_type": "markdown",
   "id": "statutory-expense",
   "metadata": {},
   "source": [
    "# Data preprocessing\n",
    "Importing the dataset"
   ]
  },
  {
   "cell_type": "code",
   "execution_count": 2,
   "id": "owned-feedback",
   "metadata": {},
   "outputs": [
    {
     "data": {
      "text/plain": [
       "array([[0, 0, 0, ..., 0, 0, 0],\n",
       "       [4, 0, 0, ..., 0, 0, 0],\n",
       "       [1, 0, 0, ..., 0, 0, 0],\n",
       "       ...,\n",
       "       [5, 0, 0, ..., 0, 0, 0],\n",
       "       [6, 0, 0, ..., 0, 0, 0],\n",
       "       [8, 0, 0, ..., 0, 0, 0]], dtype=int64)"
      ]
     },
     "execution_count": 2,
     "metadata": {},
     "output_type": "execute_result"
    }
   ],
   "source": [
    "df = pd.read_csv(\"mnist_train.csv\").iloc[:,:].values\n",
    "df"
   ]
  },
  {
   "cell_type": "code",
   "execution_count": 3,
   "id": "particular-monthly",
   "metadata": {},
   "outputs": [],
   "source": [
    "x = df[:,1:]\n",
    "y = df[:,0] "
   ]
  },
  {
   "cell_type": "code",
   "execution_count": 4,
   "id": "comfortable-carter",
   "metadata": {},
   "outputs": [
    {
     "name": "stdout",
     "output_type": "stream",
     "text": [
      "[[1. 0. 0. ... 0. 0. 0.]\n",
      " [0. 0. 0. ... 0. 0. 0.]\n",
      " [0. 1. 0. ... 0. 0. 0.]\n",
      " ...\n",
      " [0. 0. 0. ... 0. 0. 0.]\n",
      " [0. 0. 0. ... 0. 0. 0.]\n",
      " [0. 0. 0. ... 0. 1. 0.]]\n"
     ]
    }
   ],
   "source": [
    "from keras.utils import to_categorical\n",
    "y_ = to_categorical(y)\n",
    "print(y_)"
   ]
  },
  {
   "cell_type": "markdown",
   "id": "desperate-visibility",
   "metadata": {},
   "source": [
    "# Building the ANN"
   ]
  },
  {
   "cell_type": "code",
   "execution_count": 5,
   "id": "julian-unemployment",
   "metadata": {},
   "outputs": [],
   "source": [
    "ann = tf.keras.models.Sequential()\n",
    "ann.add(tf.keras.layers.Dense(units=64,input_dim=784, activation='relu'))\n",
    "ann.add(tf.keras.layers.Dense(units=10, activation='softmax'))"
   ]
  },
  {
   "cell_type": "markdown",
   "id": "heard-submission",
   "metadata": {},
   "source": [
    "# Splitting the dataset into the Training set and Test set"
   ]
  },
  {
   "cell_type": "code",
   "execution_count": 6,
   "id": "powerful-jones",
   "metadata": {},
   "outputs": [],
   "source": [
    "from sklearn.model_selection import train_test_split\n",
    "X_train,X_test,y_train,y_test = train_test_split(x,y_,test_size = 0.1, shuffle = True)"
   ]
  },
  {
   "cell_type": "markdown",
   "id": "perceived-dynamics",
   "metadata": {},
   "source": [
    "# Training the ANN"
   ]
  },
  {
   "cell_type": "code",
   "execution_count": 7,
   "id": "clean-terminal",
   "metadata": {},
   "outputs": [
    {
     "name": "stdout",
     "output_type": "stream",
     "text": [
      "Epoch 1/100\n",
      "1080/1080 [==============================] - 28s 21ms/step - loss: 7.8837 - accuracy: 0.7385 - val_loss: 0.7289 - val_accuracy: 0.8200\n",
      "Epoch 2/100\n",
      "1080/1080 [==============================] - 3s 3ms/step - loss: 0.5438 - accuracy: 0.8663 - val_loss: 0.4927 - val_accuracy: 0.8825\n",
      "Epoch 3/100\n",
      "1080/1080 [==============================] - 5s 5ms/step - loss: 0.3510 - accuracy: 0.9058 - val_loss: 0.3965 - val_accuracy: 0.9057\n",
      "Epoch 4/100\n",
      "1080/1080 [==============================] - 3s 3ms/step - loss: 0.3051 - accuracy: 0.9200 - val_loss: 0.3259 - val_accuracy: 0.9173\n",
      "Epoch 5/100\n",
      "1080/1080 [==============================] - 3s 3ms/step - loss: 0.2528 - accuracy: 0.9324 - val_loss: 0.2895 - val_accuracy: 0.9258\n",
      "Epoch 6/100\n",
      "1080/1080 [==============================] - 3s 3ms/step - loss: 0.2336 - accuracy: 0.9371 - val_loss: 0.2919 - val_accuracy: 0.9312\n",
      "Epoch 7/100\n",
      "1080/1080 [==============================] - 3s 2ms/step - loss: 0.2013 - accuracy: 0.9440 - val_loss: 0.2681 - val_accuracy: 0.9387\n",
      "Epoch 8/100\n",
      "1080/1080 [==============================] - 3s 3ms/step - loss: 0.1981 - accuracy: 0.9461 - val_loss: 0.2818 - val_accuracy: 0.9360\n",
      "Epoch 9/100\n",
      "1080/1080 [==============================] - 3s 3ms/step - loss: 0.1815 - accuracy: 0.9496 - val_loss: 0.2437 - val_accuracy: 0.9407\n",
      "Epoch 10/100\n",
      "1080/1080 [==============================] - 3s 3ms/step - loss: 0.1674 - accuracy: 0.9546 - val_loss: 0.2601 - val_accuracy: 0.9418\n",
      "Epoch 11/100\n",
      "1080/1080 [==============================] - 3s 3ms/step - loss: 0.1668 - accuracy: 0.9534 - val_loss: 0.2836 - val_accuracy: 0.9430\n",
      "Epoch 12/100\n",
      "1080/1080 [==============================] - 4s 4ms/step - loss: 0.1661 - accuracy: 0.9549 - val_loss: 0.2471 - val_accuracy: 0.9458\n",
      "Epoch 13/100\n",
      "1080/1080 [==============================] - 4s 4ms/step - loss: 0.1552 - accuracy: 0.9577 - val_loss: 0.2481 - val_accuracy: 0.9457\n",
      "Epoch 14/100\n",
      "1080/1080 [==============================] - 3s 3ms/step - loss: 0.1424 - accuracy: 0.9605 - val_loss: 0.2696 - val_accuracy: 0.9467\n",
      "Epoch 15/100\n",
      "1080/1080 [==============================] - 3s 3ms/step - loss: 0.1461 - accuracy: 0.9609 - val_loss: 0.2682 - val_accuracy: 0.9483\n",
      "Epoch 16/100\n",
      "1080/1080 [==============================] - 3s 3ms/step - loss: 0.1462 - accuracy: 0.9608 - val_loss: 0.2757 - val_accuracy: 0.9425\n",
      "Epoch 17/100\n",
      "1080/1080 [==============================] - 3s 3ms/step - loss: 0.1318 - accuracy: 0.9635 - val_loss: 0.2634 - val_accuracy: 0.9473\n",
      "Epoch 18/100\n",
      "1080/1080 [==============================] - 3s 3ms/step - loss: 0.1257 - accuracy: 0.9654 - val_loss: 0.2971 - val_accuracy: 0.9462\n",
      "Epoch 19/100\n",
      "1080/1080 [==============================] - 3s 3ms/step - loss: 0.1289 - accuracy: 0.9650 - val_loss: 0.3072 - val_accuracy: 0.9502\n",
      "Epoch 20/100\n",
      "1080/1080 [==============================] - 3s 2ms/step - loss: 0.1270 - accuracy: 0.9663 - val_loss: 0.2847 - val_accuracy: 0.9498\n",
      "Epoch 21/100\n",
      "1080/1080 [==============================] - 3s 3ms/step - loss: 0.1275 - accuracy: 0.9651 - val_loss: 0.2836 - val_accuracy: 0.9480\n",
      "Epoch 22/100\n",
      "1080/1080 [==============================] - 3s 3ms/step - loss: 0.1228 - accuracy: 0.9656 - val_loss: 0.3559 - val_accuracy: 0.9472\n",
      "Epoch 23/100\n",
      "1080/1080 [==============================] - 3s 3ms/step - loss: 0.1323 - accuracy: 0.9665 - val_loss: 0.3432 - val_accuracy: 0.9473\n",
      "Epoch 24/100\n",
      "1080/1080 [==============================] - 3s 3ms/step - loss: 0.1285 - accuracy: 0.9663 - val_loss: 0.3013 - val_accuracy: 0.9527\n",
      "Epoch 25/100\n",
      "1080/1080 [==============================] - 3s 3ms/step - loss: 0.1086 - accuracy: 0.9697 - val_loss: 0.2981 - val_accuracy: 0.9488\n",
      "Epoch 26/100\n",
      "1080/1080 [==============================] - 3s 3ms/step - loss: 0.1237 - accuracy: 0.9676 - val_loss: 0.3164 - val_accuracy: 0.9482\n",
      "Epoch 27/100\n",
      "1080/1080 [==============================] - 3s 3ms/step - loss: 0.1243 - accuracy: 0.9655 - val_loss: 0.2963 - val_accuracy: 0.9522\n",
      "Epoch 28/100\n",
      "1080/1080 [==============================] - 3s 3ms/step - loss: 0.1114 - accuracy: 0.9700 - val_loss: 0.3392 - val_accuracy: 0.9465\n",
      "Epoch 29/100\n",
      "1080/1080 [==============================] - 3s 2ms/step - loss: 0.1122 - accuracy: 0.9689 - val_loss: 0.3546 - val_accuracy: 0.9465\n",
      "Epoch 30/100\n",
      "1080/1080 [==============================] - 3s 3ms/step - loss: 0.1180 - accuracy: 0.9672 - val_loss: 0.3089 - val_accuracy: 0.9512\n",
      "Epoch 31/100\n",
      "1080/1080 [==============================] - 3s 2ms/step - loss: 0.1004 - accuracy: 0.9730 - val_loss: 0.3496 - val_accuracy: 0.9518\n",
      "Epoch 32/100\n",
      "1080/1080 [==============================] - 3s 2ms/step - loss: 0.1154 - accuracy: 0.9687 - val_loss: 0.3497 - val_accuracy: 0.9440\n",
      "Epoch 33/100\n",
      "1080/1080 [==============================] - 3s 2ms/step - loss: 0.1120 - accuracy: 0.9704 - val_loss: 0.3457 - val_accuracy: 0.9477\n",
      "Epoch 34/100\n",
      "1080/1080 [==============================] - 3s 3ms/step - loss: 0.1044 - accuracy: 0.9712 - val_loss: 0.3685 - val_accuracy: 0.9490\n",
      "Epoch 35/100\n",
      "1080/1080 [==============================] - 3s 3ms/step - loss: 0.1105 - accuracy: 0.9711 - val_loss: 0.3690 - val_accuracy: 0.9477\n",
      "Epoch 36/100\n",
      "1080/1080 [==============================] - 3s 2ms/step - loss: 0.1111 - accuracy: 0.9725 - val_loss: 0.3484 - val_accuracy: 0.9467\n",
      "Epoch 37/100\n",
      "1080/1080 [==============================] - 3s 2ms/step - loss: 0.1121 - accuracy: 0.9724 - val_loss: 0.3569 - val_accuracy: 0.9485\n",
      "Epoch 38/100\n",
      "1080/1080 [==============================] - 3s 2ms/step - loss: 0.1007 - accuracy: 0.9721 - val_loss: 0.4171 - val_accuracy: 0.9460\n",
      "Epoch 39/100\n",
      "1080/1080 [==============================] - 3s 2ms/step - loss: 0.1017 - accuracy: 0.9716 - val_loss: 0.3524 - val_accuracy: 0.9438\n",
      "Epoch 40/100\n",
      "1080/1080 [==============================] - 2s 2ms/step - loss: 0.1067 - accuracy: 0.9714 - val_loss: 0.3786 - val_accuracy: 0.9467\n",
      "Epoch 41/100\n",
      "1080/1080 [==============================] - 2s 2ms/step - loss: 0.1012 - accuracy: 0.9727 - val_loss: 0.3792 - val_accuracy: 0.9457\n",
      "Epoch 42/100\n",
      "1080/1080 [==============================] - 3s 2ms/step - loss: 0.0982 - accuracy: 0.9737 - val_loss: 0.3659 - val_accuracy: 0.9457\n",
      "Epoch 43/100\n",
      "1080/1080 [==============================] - 3s 2ms/step - loss: 0.1026 - accuracy: 0.9742 - val_loss: 0.3898 - val_accuracy: 0.9507\n",
      "Epoch 44/100\n",
      "1080/1080 [==============================] - 3s 2ms/step - loss: 0.1089 - accuracy: 0.9713 - val_loss: 0.4244 - val_accuracy: 0.9447\n",
      "Epoch 45/100\n",
      "1080/1080 [==============================] - 3s 2ms/step - loss: 0.0904 - accuracy: 0.9751 - val_loss: 0.4267 - val_accuracy: 0.9470\n",
      "Epoch 46/100\n",
      "1080/1080 [==============================] - 3s 2ms/step - loss: 0.1012 - accuracy: 0.9725 - val_loss: 0.3998 - val_accuracy: 0.9485\n",
      "Epoch 47/100\n",
      "1080/1080 [==============================] - 3s 2ms/step - loss: 0.0980 - accuracy: 0.9743 - val_loss: 0.3928 - val_accuracy: 0.9460\n",
      "Epoch 48/100\n",
      "1080/1080 [==============================] - 3s 2ms/step - loss: 0.1020 - accuracy: 0.9732 - val_loss: 0.4535 - val_accuracy: 0.9497\n",
      "Epoch 49/100\n",
      "1080/1080 [==============================] - 3s 2ms/step - loss: 0.1072 - accuracy: 0.9726 - val_loss: 0.4300 - val_accuracy: 0.9443\n",
      "Epoch 50/100\n",
      "1080/1080 [==============================] - 3s 2ms/step - loss: 0.1003 - accuracy: 0.9734 - val_loss: 0.4502 - val_accuracy: 0.9518\n",
      "Epoch 51/100\n",
      "1080/1080 [==============================] - 3s 2ms/step - loss: 0.1056 - accuracy: 0.9729 - val_loss: 0.4423 - val_accuracy: 0.9493\n",
      "Epoch 52/100\n",
      "1080/1080 [==============================] - 3s 2ms/step - loss: 0.0900 - accuracy: 0.9763 - val_loss: 0.4407 - val_accuracy: 0.9513\n",
      "Epoch 53/100\n",
      "1080/1080 [==============================] - 3s 2ms/step - loss: 0.0852 - accuracy: 0.9770 - val_loss: 0.4178 - val_accuracy: 0.9448\n",
      "Epoch 54/100\n",
      "1080/1080 [==============================] - 3s 2ms/step - loss: 0.1060 - accuracy: 0.9739 - val_loss: 0.4564 - val_accuracy: 0.9522\n",
      "Epoch 55/100\n",
      "1080/1080 [==============================] - 3s 2ms/step - loss: 0.0888 - accuracy: 0.9780 - val_loss: 0.4259 - val_accuracy: 0.9500\n",
      "Epoch 56/100\n",
      "1080/1080 [==============================] - 3s 2ms/step - loss: 0.0880 - accuracy: 0.9753 - val_loss: 0.4663 - val_accuracy: 0.9515\n",
      "Epoch 57/100\n"
     ]
    },
    {
     "name": "stdout",
     "output_type": "stream",
     "text": [
      "1080/1080 [==============================] - 3s 2ms/step - loss: 0.0982 - accuracy: 0.9729 - val_loss: 0.5079 - val_accuracy: 0.9503\n",
      "Epoch 58/100\n",
      "1080/1080 [==============================] - 3s 2ms/step - loss: 0.0956 - accuracy: 0.9750 - val_loss: 0.5520 - val_accuracy: 0.9468\n",
      "Epoch 59/100\n",
      "1080/1080 [==============================] - 3s 2ms/step - loss: 0.0982 - accuracy: 0.9732 - val_loss: 0.5334 - val_accuracy: 0.9505\n",
      "Epoch 60/100\n",
      "1080/1080 [==============================] - 3s 2ms/step - loss: 0.0914 - accuracy: 0.9755 - val_loss: 0.5119 - val_accuracy: 0.9473\n",
      "Epoch 61/100\n",
      "1080/1080 [==============================] - 2s 2ms/step - loss: 0.0868 - accuracy: 0.9770 - val_loss: 0.5245 - val_accuracy: 0.9497\n",
      "Epoch 62/100\n",
      "1080/1080 [==============================] - 2s 2ms/step - loss: 0.0913 - accuracy: 0.9764 - val_loss: 0.5770 - val_accuracy: 0.9460\n",
      "Epoch 63/100\n",
      "1080/1080 [==============================] - 3s 2ms/step - loss: 0.1025 - accuracy: 0.9739 - val_loss: 0.5282 - val_accuracy: 0.9495\n",
      "Epoch 64/100\n",
      "1080/1080 [==============================] - 3s 2ms/step - loss: 0.0917 - accuracy: 0.9761 - val_loss: 0.5398 - val_accuracy: 0.9507\n",
      "Epoch 65/100\n",
      "1080/1080 [==============================] - 3s 2ms/step - loss: 0.0872 - accuracy: 0.9766 - val_loss: 0.5696 - val_accuracy: 0.9483\n",
      "Epoch 66/100\n",
      "1080/1080 [==============================] - 3s 2ms/step - loss: 0.0904 - accuracy: 0.9763 - val_loss: 0.5358 - val_accuracy: 0.9473\n",
      "Epoch 67/100\n",
      "1080/1080 [==============================] - 3s 2ms/step - loss: 0.0911 - accuracy: 0.9769 - val_loss: 0.5435 - val_accuracy: 0.9445\n",
      "Epoch 68/100\n",
      "1080/1080 [==============================] - 3s 2ms/step - loss: 0.0892 - accuracy: 0.9771 - val_loss: 0.5641 - val_accuracy: 0.9447\n",
      "Epoch 69/100\n",
      "1080/1080 [==============================] - 3s 2ms/step - loss: 0.0894 - accuracy: 0.9766 - val_loss: 0.5330 - val_accuracy: 0.9508\n",
      "Epoch 70/100\n",
      "1080/1080 [==============================] - 2s 2ms/step - loss: 0.0810 - accuracy: 0.9784 - val_loss: 0.6059 - val_accuracy: 0.9453\n",
      "Epoch 71/100\n",
      "1080/1080 [==============================] - 3s 3ms/step - loss: 0.0872 - accuracy: 0.9777 - val_loss: 0.5992 - val_accuracy: 0.9488\n",
      "Epoch 72/100\n",
      "1080/1080 [==============================] - 3s 2ms/step - loss: 0.1088 - accuracy: 0.9742 - val_loss: 0.5040 - val_accuracy: 0.9500\n",
      "Epoch 73/100\n",
      "1080/1080 [==============================] - 3s 2ms/step - loss: 0.0840 - accuracy: 0.9774 - val_loss: 0.5696 - val_accuracy: 0.9382\n",
      "Epoch 74/100\n",
      "1080/1080 [==============================] - 3s 2ms/step - loss: 0.1028 - accuracy: 0.9759 - val_loss: 0.6159 - val_accuracy: 0.9510\n",
      "Epoch 75/100\n",
      "1080/1080 [==============================] - 3s 2ms/step - loss: 0.0907 - accuracy: 0.9766 - val_loss: 0.6437 - val_accuracy: 0.9478\n",
      "Epoch 76/100\n",
      "1080/1080 [==============================] - 2s 2ms/step - loss: 0.1046 - accuracy: 0.9764 - val_loss: 0.5555 - val_accuracy: 0.9495\n",
      "Epoch 77/100\n",
      "1080/1080 [==============================] - 3s 2ms/step - loss: 0.0853 - accuracy: 0.9777 - val_loss: 0.5568 - val_accuracy: 0.9512\n",
      "Epoch 78/100\n",
      "1080/1080 [==============================] - 3s 2ms/step - loss: 0.0953 - accuracy: 0.9772 - val_loss: 0.6691 - val_accuracy: 0.9450\n",
      "Epoch 79/100\n",
      "1080/1080 [==============================] - 3s 2ms/step - loss: 0.0900 - accuracy: 0.9767 - val_loss: 0.6129 - val_accuracy: 0.9472\n",
      "Epoch 80/100\n",
      "1080/1080 [==============================] - 3s 2ms/step - loss: 0.0908 - accuracy: 0.9766 - val_loss: 0.6069 - val_accuracy: 0.9523\n",
      "Epoch 81/100\n",
      "1080/1080 [==============================] - 3s 2ms/step - loss: 0.0914 - accuracy: 0.9768 - val_loss: 0.6645 - val_accuracy: 0.9495\n",
      "Epoch 82/100\n",
      "1080/1080 [==============================] - 2s 2ms/step - loss: 0.0872 - accuracy: 0.9779 - val_loss: 0.7109 - val_accuracy: 0.9467\n",
      "Epoch 83/100\n",
      "1080/1080 [==============================] - 3s 2ms/step - loss: 0.0841 - accuracy: 0.9791 - val_loss: 0.7023 - val_accuracy: 0.9480\n",
      "Epoch 84/100\n",
      "1080/1080 [==============================] - 3s 2ms/step - loss: 0.0905 - accuracy: 0.9770 - val_loss: 0.7862 - val_accuracy: 0.9465\n",
      "Epoch 85/100\n",
      "1080/1080 [==============================] - 3s 2ms/step - loss: 0.0922 - accuracy: 0.9780 - val_loss: 0.7177 - val_accuracy: 0.9450\n",
      "Epoch 86/100\n",
      "1080/1080 [==============================] - 3s 2ms/step - loss: 0.0820 - accuracy: 0.9797 - val_loss: 0.6822 - val_accuracy: 0.9475\n",
      "Epoch 87/100\n",
      "1080/1080 [==============================] - 3s 2ms/step - loss: 0.0852 - accuracy: 0.9789 - val_loss: 0.6386 - val_accuracy: 0.9432\n",
      "Epoch 88/100\n",
      "1080/1080 [==============================] - 3s 2ms/step - loss: 0.0811 - accuracy: 0.9800 - val_loss: 0.6613 - val_accuracy: 0.9468\n",
      "Epoch 89/100\n",
      "1080/1080 [==============================] - 2s 2ms/step - loss: 0.0881 - accuracy: 0.9775 - val_loss: 0.7030 - val_accuracy: 0.9490\n",
      "Epoch 90/100\n",
      "1080/1080 [==============================] - 3s 2ms/step - loss: 0.0879 - accuracy: 0.9778 - val_loss: 0.6467 - val_accuracy: 0.9467\n",
      "Epoch 91/100\n",
      "1080/1080 [==============================] - 3s 2ms/step - loss: 0.0867 - accuracy: 0.9787 - val_loss: 0.6102 - val_accuracy: 0.9487\n",
      "Epoch 92/100\n",
      "1080/1080 [==============================] - 3s 2ms/step - loss: 0.0829 - accuracy: 0.9788 - val_loss: 0.6247 - val_accuracy: 0.9510\n",
      "Epoch 93/100\n",
      "1080/1080 [==============================] - 3s 2ms/step - loss: 0.0797 - accuracy: 0.9796 - val_loss: 0.7134 - val_accuracy: 0.9453\n",
      "Epoch 94/100\n",
      "1080/1080 [==============================] - 3s 2ms/step - loss: 0.0910 - accuracy: 0.9766 - val_loss: 0.8050 - val_accuracy: 0.9492\n",
      "Epoch 95/100\n",
      "1080/1080 [==============================] - 3s 2ms/step - loss: 0.0859 - accuracy: 0.9789 - val_loss: 0.7744 - val_accuracy: 0.9445\n",
      "Epoch 96/100\n",
      "1080/1080 [==============================] - 2s 2ms/step - loss: 0.0921 - accuracy: 0.9766 - val_loss: 0.8435 - val_accuracy: 0.9383\n",
      "Epoch 97/100\n",
      "1080/1080 [==============================] - 2s 2ms/step - loss: 0.0947 - accuracy: 0.9767 - val_loss: 0.6922 - val_accuracy: 0.9498\n",
      "Epoch 98/100\n",
      "1080/1080 [==============================] - 2s 2ms/step - loss: 0.0780 - accuracy: 0.9804 - val_loss: 0.6628 - val_accuracy: 0.9483\n",
      "Epoch 99/100\n",
      "1080/1080 [==============================] - 3s 2ms/step - loss: 0.0797 - accuracy: 0.9791 - val_loss: 0.6876 - val_accuracy: 0.9495\n",
      "Epoch 100/100\n",
      "1080/1080 [==============================] - 3s 2ms/step - loss: 0.0869 - accuracy: 0.9787 - val_loss: 0.7321 - val_accuracy: 0.9450\n"
     ]
    },
    {
     "data": {
      "text/plain": [
       "<tensorflow.python.keras.callbacks.History at 0x9c661f08e0>"
      ]
     },
     "execution_count": 7,
     "metadata": {},
     "output_type": "execute_result"
    }
   ],
   "source": [
    "ann.compile(optimizer = 'adam', loss = 'categorical_crossentropy', metrics = ['accuracy'])\n",
    "model = ann.fit(X_train, y_train, validation_data=(X_test,y_test),batch_size = 50, epochs = 100)\n",
    "model"
   ]
  },
  {
   "cell_type": "code",
   "execution_count": 29,
   "id": "scenic-keyboard",
   "metadata": {},
   "outputs": [
    {
     "name": "stdout",
     "output_type": "stream",
     "text": [
      "Model: \"sequential_5\"\n",
      "_________________________________________________________________\n",
      "Layer (type)                 Output Shape              Param #   \n",
      "=================================================================\n",
      "dense_10 (Dense)             (None, 64)                50240     \n",
      "_________________________________________________________________\n",
      "dense_11 (Dense)             (None, 10)                650       \n",
      "=================================================================\n",
      "Total params: 50,890\n",
      "Trainable params: 50,890\n",
      "Non-trainable params: 0\n",
      "_________________________________________________________________\n"
     ]
    }
   ],
   "source": [
    "ann.summary()"
   ]
  },
  {
   "cell_type": "markdown",
   "id": "popular-combining",
   "metadata": {},
   "source": [
    "# Predicting the Train set results"
   ]
  },
  {
   "cell_type": "code",
   "execution_count": 37,
   "id": "basic-springer",
   "metadata": {},
   "outputs": [
    {
     "data": {
      "text/plain": [
       "array([[1.0000000e+00, 0.0000000e+00, 9.4328814e-30, ..., 0.0000000e+00,\n",
       "        0.0000000e+00, 0.0000000e+00],\n",
       "       [0.0000000e+00, 1.1582684e-09, 2.4902072e-13, ..., 2.1270354e-32,\n",
       "        4.3985635e-14, 0.0000000e+00],\n",
       "       [0.0000000e+00, 6.7957799e-08, 9.9998510e-01, ..., 5.3999933e-08,\n",
       "        8.5864709e-17, 0.0000000e+00],\n",
       "       ...,\n",
       "       [0.0000000e+00, 0.0000000e+00, 0.0000000e+00, ..., 0.0000000e+00,\n",
       "        4.6145127e-28, 0.0000000e+00],\n",
       "       [9.1403794e-11, 2.0183915e-02, 7.9381442e-01, ..., 1.2054511e-01,\n",
       "        1.5267923e-04, 8.1083209e-13],\n",
       "       [1.8591990e-09, 3.5676067e-08, 5.4672087e-06, ..., 6.0974186e-12,\n",
       "        9.9997211e-01, 1.6557869e-05]], dtype=float32)"
      ]
     },
     "execution_count": 37,
     "metadata": {},
     "output_type": "execute_result"
    }
   ],
   "source": [
    "ypred = ann.predict(X_train)\n",
    "ypred"
   ]
  },
  {
   "cell_type": "code",
   "execution_count": 38,
   "id": "adolescent-bulgaria",
   "metadata": {},
   "outputs": [
    {
     "data": {
      "text/plain": [
       "array([0, 3, 2, ..., 6, 2, 8], dtype=int64)"
      ]
     },
     "execution_count": 38,
     "metadata": {},
     "output_type": "execute_result"
    }
   ],
   "source": [
    "y_pred = ypred>0.5\n",
    "y_pred = np.argmax(y_pred,axis=1)\n",
    "y_pred"
   ]
  },
  {
   "cell_type": "code",
   "execution_count": 39,
   "id": "alternate-effectiveness",
   "metadata": {},
   "outputs": [
    {
     "data": {
      "text/plain": [
       "array([0, 3, 2, ..., 6, 2, 8], dtype=int64)"
      ]
     },
     "execution_count": 39,
     "metadata": {},
     "output_type": "execute_result"
    }
   ],
   "source": [
    "ytrain_ = y_train>0.5\n",
    "ytrain_ = np.argmax(ytrain_,axis=1)\n",
    "ytrain_"
   ]
  },
  {
   "cell_type": "markdown",
   "id": "level-patio",
   "metadata": {},
   "source": [
    "# Making the Confusion Matrix"
   ]
  },
  {
   "cell_type": "code",
   "execution_count": 40,
   "id": "retained-zoning",
   "metadata": {},
   "outputs": [
    {
     "name": "stdout",
     "output_type": "stream",
     "text": [
      "[[5323    0    0    0    5    2    5    0    5    1]\n",
      " [  16 6028   15    0    0    0    0    3    3    5]\n",
      " [ 101    1 5184    7   18    0    1   11   13    1]\n",
      " [ 101    1   50 5306    0   27    0   17   10   17]\n",
      " [  51   14    1    0 5084    0   27    1    5   96]\n",
      " [  29    1    7   20    1 4708   46    1   19   13]\n",
      " [  33    1    0    0    1   19 5281    0    5    0]\n",
      " [  23    2   26   13    1    0    1 5520    1   31]\n",
      " [ 239    7   19    7    0    9   14    0 4933   44]\n",
      " [ 105    2    0   28   20   21    3   16   22 5151]]\n"
     ]
    },
    {
     "data": {
      "text/plain": [
       "0.9725735661771514"
      ]
     },
     "execution_count": 40,
     "metadata": {},
     "output_type": "execute_result"
    }
   ],
   "source": [
    "from sklearn.metrics import confusion_matrix, accuracy_score\n",
    "cm = confusion_matrix(ytrain_, y_pred)\n",
    "print(cm)\n",
    "accuracy_score(ytrain_, y_pred)"
   ]
  },
  {
   "cell_type": "markdown",
   "id": "desperate-montgomery",
   "metadata": {},
   "source": [
    "# Predicting the Test set results"
   ]
  },
  {
   "cell_type": "code",
   "execution_count": 30,
   "id": "acute-lemon",
   "metadata": {},
   "outputs": [
    {
     "data": {
      "text/plain": [
       "array([[1.0000000e+00, 0.0000000e+00, 0.0000000e+00, ..., 0.0000000e+00,\n",
       "        0.0000000e+00, 0.0000000e+00],\n",
       "       [0.0000000e+00, 1.0000000e+00, 0.0000000e+00, ..., 0.0000000e+00,\n",
       "        0.0000000e+00, 0.0000000e+00],\n",
       "       [0.0000000e+00, 1.3659925e-07, 1.2734189e-16, ..., 1.4918218e-05,\n",
       "        3.3097552e-10, 9.9994183e-01],\n",
       "       ...,\n",
       "       [2.9466410e-17, 5.1203328e-03, 4.3106029e-06, ..., 9.4758070e-01,\n",
       "        1.2517181e-04, 7.0121875e-03],\n",
       "       [0.0000000e+00, 1.0000000e+00, 0.0000000e+00, ..., 0.0000000e+00,\n",
       "        1.9438353e-27, 0.0000000e+00],\n",
       "       [1.9027217e-01, 3.0585101e-02, 1.0631830e-01, ..., 4.2839270e-02,\n",
       "        3.0487821e-01, 1.0825007e-01]], dtype=float32)"
      ]
     },
     "execution_count": 30,
     "metadata": {},
     "output_type": "execute_result"
    }
   ],
   "source": [
    "ypred = ann.predict(X_test)\n",
    "ypred"
   ]
  },
  {
   "cell_type": "code",
   "execution_count": 31,
   "id": "annoying-specialist",
   "metadata": {},
   "outputs": [
    {
     "data": {
      "text/plain": [
       "array([0, 1, 9, ..., 7, 1, 0], dtype=int64)"
      ]
     },
     "execution_count": 31,
     "metadata": {},
     "output_type": "execute_result"
    }
   ],
   "source": [
    "y_pred = ypred>0.5\n",
    "y_pred = np.argmax(y_pred,axis=1)\n",
    "y_pred"
   ]
  },
  {
   "cell_type": "code",
   "execution_count": 32,
   "id": "pressed-trailer",
   "metadata": {},
   "outputs": [
    {
     "data": {
      "text/plain": [
       "array([0, 1, 9, ..., 7, 1, 9], dtype=int64)"
      ]
     },
     "execution_count": 32,
     "metadata": {},
     "output_type": "execute_result"
    }
   ],
   "source": [
    "ytest_ = y_test>0.5\n",
    "ytest_ = np.argmax(ytest_,axis=1)\n",
    "ytest_"
   ]
  },
  {
   "cell_type": "markdown",
   "id": "cardiovascular-persian",
   "metadata": {},
   "source": [
    "# Making the Confusion Matrix"
   ]
  },
  {
   "cell_type": "code",
   "execution_count": 33,
   "id": "endangered-genealogy",
   "metadata": {},
   "outputs": [
    {
     "name": "stdout",
     "output_type": "stream",
     "text": [
      "[[570   0   0   1   3   3   3   1   1   0]\n",
      " [  4 652   5   1   1   0   3   0   5   1]\n",
      " [ 13   3 581   6   7   1   1   3   4   2]\n",
      " [ 11   3  10 562   0   5   0   3   4   4]\n",
      " [  5   2   3   0 522   0   5   3   4  19]\n",
      " [  3   0   1  13   1 535  12   2   3   5]\n",
      " [  5   1   0   0   2   3 565   0   2   0]\n",
      " [  7   3   5   4   3   2   0 607   2  14]\n",
      " [ 24   3   6   4   3   6   2   1 519  11]\n",
      " [ 10   0   0   3  10   7   0   4   1 546]]\n"
     ]
    },
    {
     "data": {
      "text/plain": [
       "0.9431666666666667"
      ]
     },
     "execution_count": 33,
     "metadata": {},
     "output_type": "execute_result"
    }
   ],
   "source": [
    "from sklearn.metrics import confusion_matrix, accuracy_score\n",
    "cm = confusion_matrix(ytest_, y_pred)\n",
    "print(cm)\n",
    "accuracy_score(ytest_, y_pred)"
   ]
  },
  {
   "cell_type": "code",
   "execution_count": 34,
   "id": "hearing-night",
   "metadata": {},
   "outputs": [
    {
     "name": "stdout",
     "output_type": "stream",
     "text": [
      "False Positives\n",
      " [82 15 30 32 30 27 26 17 26 56]\n",
      "False Negetives\n",
      " [12 20 40 40 41 40 13 40 60 35]\n",
      "True Positives\n",
      " [570 652 581 562 522 535 565 607 519 546]\n",
      "True Negetives\n",
      " [5336 5313 5349 5366 5407 5398 5396 5336 5395 5363]\n",
      "Sensitivity \n",
      " [0.97938144 0.9702381  0.93558776 0.93355482 0.92717584 0.93043478\n",
      " 0.97750865 0.9381762  0.89637306 0.93975904]\n",
      "Specificity \n",
      " [0.98486526 0.99718468 0.99442276 0.99407188 0.99448225 0.99502304\n",
      " 0.99520472 0.99682421 0.99520384 0.98966599]\n",
      "Precision \n",
      " [0.87423313 0.97751124 0.95090016 0.94612795 0.94565217 0.9519573\n",
      " 0.95600677 0.97275641 0.95229358 0.90697674]\n",
      "Recall \n",
      " [0.97938144 0.9702381  0.93558776 0.93355482 0.92717584 0.93043478\n",
      " 0.97750865 0.9381762  0.89637306 0.93975904]\n",
      "Áccuracy \n",
      "[0.98433333 0.99416667 0.98833333 0.988      0.98816667 0.98883333\n",
      " 0.9935     0.9905     0.98566667 0.98483333]\n",
      "FScore \n",
      "[0.92382496 0.97386109 0.94318182 0.93979933 0.93632287 0.941073\n",
      " 0.96663815 0.95515342 0.92348754 0.92307692]\n"
     ]
    }
   ],
   "source": [
    "FP = cm.sum(axis=0) - np.diag(cm)\n",
    "FN = cm.sum(axis=1) - np.diag(cm)\n",
    "TP = np.diag(cm)\n",
    "TN = cm.sum() - (FP + FN + TP)\n",
    "print('False Positives\\n {}'.format(FP))\n",
    "print('False Negetives\\n {}'.format(FN))\n",
    "print('True Positives\\n {}'.format(TP))\n",
    "print('True Negetives\\n {}'.format(TN))\n",
    "TPR = TP/(TP+FN)\n",
    "print('Sensitivity \\n {}'.format(TPR))\n",
    "TNR = TN/(TN+FP)\n",
    "print('Specificity \\n {}'.format(TNR))\n",
    "Precision = TP/(TP+FP)\n",
    "print('Precision \\n {}'.format(Precision))\n",
    "Recall = TP/(TP+FN)\n",
    "print('Recall \\n {}'.format(Recall))\n",
    "Acc = (TP+TN)/(TP+TN+FP+FN)\n",
    "print('Áccuracy \\n{}'.format(Acc))\n",
    "Fscore = 2*(Precision*Recall)/(Precision+Recall)\n",
    "print('FScore \\n{}'.format(Fscore))"
   ]
  },
  {
   "cell_type": "code",
   "execution_count": 35,
   "id": "departmental-bryan",
   "metadata": {},
   "outputs": [],
   "source": [
    "training_loss = model.history['loss']\n",
    "epoch_count = range(1, len(training_loss) + 1)"
   ]
  },
  {
   "cell_type": "markdown",
   "id": "protective-support",
   "metadata": {},
   "source": [
    "# plot of the loss vs. epochs"
   ]
  },
  {
   "cell_type": "code",
   "execution_count": 36,
   "id": "juvenile-chinese",
   "metadata": {},
   "outputs": [
    {
     "data": {
      "image/png": "[encoded data removed]",
      "text/plain": [
       "<Figure size 432x288 with 1 Axes>"
      ]
     },
     "metadata": {
      "needs_background": "light"
     },
     "output_type": "display_data"
    }
   ],
   "source": [
    "import matplotlib.pyplot as plt\n",
    "plt.plot(epoch_count, training_loss)\n",
    "plt.xlabel('Epoch')\n",
    "plt.ylabel('Loss')\n",
    "plt.show();"
   ]
  },
  {
   "cell_type": "code",
   "execution_count": null,
   "id": "differential-agency",
   "metadata": {},
   "outputs": [],
   "source": []
  }
 ],
 "metadata": {
  "kernelspec": {
   "display_name": "Python 3",
   "language": "python",
   "name": "python3"
  },
  "language_info": {
   "codemirror_mode": {
    "name": "ipython",
    "version": 3
   },
   "file_extension": ".py",
   "mimetype": "text/x-python",
   "name": "python",
   "nbconvert_exporter": "python",
   "pygments_lexer": "ipython3",
   "version": "3.8.5"
  }
 },
 "nbformat": 4,
 "nbformat_minor": 5
}
